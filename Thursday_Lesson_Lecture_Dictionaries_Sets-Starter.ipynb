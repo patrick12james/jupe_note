{
 "cells": [
  {
   "cell_type": "markdown",
   "metadata": {},
   "source": [
    "# Data Collections 2 (Dictionaries, Sets) and Importing Modules"
   ]
  },
  {
   "cell_type": "markdown",
   "metadata": {},
   "source": [
    "## Tasks Today:\n",
    "\n",
    "1) Dictionary <br>\n",
    " &nbsp;&nbsp;&nbsp;&nbsp; a) Declaring (key, value) <br>\n",
    " &nbsp;&nbsp;&nbsp;&nbsp; b) Accessing Values <br>\n",
    " &nbsp;&nbsp;&nbsp;&nbsp; ------ Exercise #1 - Print the eye color of each person in a double nested dict <br>\n",
    " &nbsp;&nbsp;&nbsp;&nbsp; c) Adding New Pairs <br>\n",
    " &nbsp;&nbsp;&nbsp;&nbsp; d) Modifying Values <br>\n",
    " &nbsp;&nbsp;&nbsp;&nbsp; e) Removing Key, Value Pairs <br>\n",
    " &nbsp;&nbsp;&nbsp;&nbsp; f) Looping a Dictionary <br>\n",
    " &nbsp;&nbsp;&nbsp;&nbsp; g) Looping Only Keys <br>\n",
    " &nbsp;&nbsp;&nbsp;&nbsp; h) Looping Only Values <br>\n",
    " &nbsp;&nbsp;&nbsp;&nbsp; ------ Exercise #2 - Create a Function that Prints All Key Value Pairs within a print .format()  <br>\n",
    " &nbsp;&nbsp;&nbsp;&nbsp; i) sorted() <br>\n",
    " &nbsp;&nbsp;&nbsp;&nbsp; j) Lists with Dictionaries <br>\n",
    " &nbsp;&nbsp;&nbsp;&nbsp; k) Dictionaries with Lists <br>\n",
    " &nbsp;&nbsp;&nbsp;&nbsp; l) Dictionaries with Dictionaries <br>\n",
    " &nbsp;&nbsp;&nbsp;&nbsp; ------ Exercise #3 - Write a Function that asks someone's name and address, and then stores that into a dictionary, which prints all names and addresses after they're done putting information in...  <br>\n",
    "2) Dictionaries vs. Lists (over time)<br>\n",
    "3) Set <br>\n",
    " &nbsp;&nbsp;&nbsp;&nbsp; a) Declaring <br>\n",
    " &nbsp;&nbsp;&nbsp;&nbsp; b) .add() <br>\n",
    " &nbsp;&nbsp;&nbsp;&nbsp; c) .remove() <br>\n",
    " &nbsp;&nbsp;&nbsp;&nbsp; d) .union() <br>\n",
    " &nbsp;&nbsp;&nbsp;&nbsp; e) .intersection() <br>\n",
    " &nbsp;&nbsp;&nbsp;&nbsp; f) .difference() <br>\n",
    " &nbsp;&nbsp;&nbsp;&nbsp; g) Frozen Set <br>\n",
    "\n",
    "5) Exercises <br>\n",
    " &nbsp;&nbsp;&nbsp;&nbsp; a) Address Book Program <br>\n",
    " &nbsp;&nbsp;&nbsp;&nbsp; b) Best Times to Meet <br>"
   ]
  },
  {
   "cell_type": "markdown",
   "metadata": {},
   "source": [
    "#### Warm Up"
   ]
  },
  {
   "cell_type": "markdown",
   "metadata": {},
   "source": [
    "Given the list `address_book`, create a function that accepts a name (first or last or both) and returns the phone number of that name in the `address_book`. If the name is not in `address_book`, return -1.<br>\n",
    "\n",
    "Ex. 1<br>\n",
    "name = 'Hank'<br>\n",
    "Expected Output: '(555) 555-1234'<br>\n",
    "\n",
    "Ex. 2<br>\n",
    "name = 'Tevin'<br>\n",
    "Expected Output: '(333) 333-3245'<br>\n",
    "\n",
    "Ex. 3<br>\n",
    "name = 'Brian'<br>\n",
    "Expected Output: -1<br>"
   ]
  },
  {
   "cell_type": "code",
   "execution_count": 40,
   "metadata": {},
   "outputs": [
    {
     "name": "stdout",
     "output_type": "stream",
     "text": [
      "(555) 555-1234\n"
     ]
    }
   ],
   "source": [
    "address_book = [\n",
    "    ('Hank', 'Mardukas', '123 Real Street', '(555) 555-1234'),\n",
    "    ('Peter', 'Klaven', '321 Fake Street', '(555) 555-4321'),\n",
    "    ('Sydney', 'Fife', '555 Santa Monica Drive', '(222) 222-6789'),\n",
    "    ('Tevin', 'Downey', '100 Rodeo Blvd', '(333) 333-3245')\n",
    "]\n",
    "\n",
    "def num_in_contact(name):\n",
    "    for person in address_book:\n",
    "        if person[0] == name:\n",
    "            return person[3]\n",
    "    return -1\n",
    "        \n",
    "print(num_in_contact('Hank'))"
   ]
  },
  {
   "cell_type": "markdown",
   "metadata": {},
   "source": [
    "## Dictionary <br>\n",
    "<p>A collection of data with 'key:value' pairs. Dictionaries are ordered as of Python 3.6</p>"
   ]
  },
  {
   "cell_type": "markdown",
   "metadata": {},
   "source": [
    "##### Declaring (key, value)"
   ]
  },
  {
   "cell_type": "code",
   "execution_count": null,
   "metadata": {},
   "outputs": [],
   "source": [
    "# Syntax: a_dict = {} or a_dict = dict() or a_dict = {'key': value, ...}\n"
   ]
  },
  {
   "cell_type": "markdown",
   "metadata": {},
   "source": [
    "##### Accessing Values"
   ]
  },
  {
   "cell_type": "code",
   "execution_count": 70,
   "metadata": {},
   "outputs": [
    {
     "name": "stdout",
     "output_type": "stream",
     "text": [
      "{}\n",
      "<class 'dict'>\n",
      "{}\n",
      "<class 'dict'>\n",
      "{'Hank': '123 Real Street', 'Peter': '321 Fake Street', 'Sydney': '555 Santa Monica Drive', 'Tevin': '100 Rodeo Blvd'}\n",
      "<class 'dict'>\n"
     ]
    }
   ],
   "source": [
    "# dict[key]\n",
    "d_1={}\n",
    "print(d_1)\n",
    "print(type(d_1))\n",
    "\n",
    "d_2 = dict()\n",
    "print(d_2)\n",
    "print(type(d_2))\n",
    "\n",
    "d_3 = {\n",
    "    'Hank' : '123 Real Street', \n",
    "    'Peter' : '321 Fake Street', \n",
    "    'Sydney': '555 Santa Monica Drive', \n",
    "    'Tevin' : '100 Rodeo Blvd', \n",
    "}\n",
    "\n",
    "print(d_3)\n",
    "print(type(d_3))"
   ]
  },
  {
   "cell_type": "code",
   "execution_count": null,
   "metadata": {},
   "outputs": [],
   "source": [
    "\n"
   ]
  },
  {
   "cell_type": "code",
   "execution_count": null,
   "metadata": {},
   "outputs": [],
   "source": []
  },
  {
   "cell_type": "markdown",
   "metadata": {},
   "source": [
    "##### .get()"
   ]
  },
  {
   "cell_type": "code",
   "execution_count": 68,
   "metadata": {},
   "outputs": [
    {
     "name": "stdout",
     "output_type": "stream",
     "text": [
      "Help on method_descriptor:\n",
      "\n",
      "get(self, key, default=None, /)\n",
      "    Return the value for key if key is in the dictionary, else default.\n",
      "\n"
     ]
    }
   ],
   "source": [
    "# dict.get('key') or dict.get('key', value_if_no_key)\n",
    "help(dict.get)"
   ]
  },
  {
   "cell_type": "code",
   "execution_count": null,
   "metadata": {},
   "outputs": [],
   "source": [
    "print(d_3.get('Peter'))\n",
    "print()\n",
    "print()"
   ]
  },
  {
   "cell_type": "markdown",
   "metadata": {},
   "source": [
    "## In-Class Exercise #1 - Print a formatted statement from the dictionary below <br>\n",
    "<p>The output should be 'My favorite car is a 2018 Chevrolet Silverado'</p>"
   ]
  },
  {
   "cell_type": "code",
   "execution_count": 60,
   "metadata": {},
   "outputs": [
    {
     "name": "stdout",
     "output_type": "stream",
     "text": [
      "My favorite car is a 2018 Chevrolet Silverado\n"
     ]
    }
   ],
   "source": [
    "# use the dict below\n",
    "truck = {\n",
    "    'year': 2018,\n",
    "    'make': 'Chevrolet',\n",
    "    'model': 'Silverado'\n",
    "}\n",
    "\n",
    "print(f\"My favorite car is a {truck['year']} {truck['make']} {truck['model']}\")"
   ]
  },
  {
   "cell_type": "markdown",
   "metadata": {},
   "source": [
    "##### Adding New Pairs"
   ]
  },
  {
   "cell_type": "code",
   "execution_count": 77,
   "metadata": {},
   "outputs": [
    {
     "data": {
      "text/plain": [
       "{'Hank': '123 Real Street',\n",
       " 'Peter': '321 Fake Street',\n",
       " 'Sydney': '555 Santa Monica Drive',\n",
       " 'Tevin': '100 Rodeo Blvd',\n",
       " 'Zooey': '151 Main Street'}"
      ]
     },
     "execution_count": 77,
     "metadata": {},
     "output_type": "execute_result"
    }
   ],
   "source": [
    "# dict[key] = value\n",
    "\n",
    "d_3['Zooey'] = '151 Main Street'\n",
    "\n",
    "d_3"
   ]
  },
  {
   "cell_type": "markdown",
   "metadata": {},
   "source": [
    "##### Modifying Values"
   ]
  },
  {
   "cell_type": "code",
   "execution_count": 78,
   "metadata": {},
   "outputs": [
    {
     "data": {
      "text/plain": [
       "{'Hank': '123 Real Street',\n",
       " 'Peter': '321 Fake Street',\n",
       " 'Sydney': '555 Santa Monica Drive',\n",
       " 'Tevin': '100 Rodeo Blvd',\n",
       " 'Zooey': '321 Fake Street'}"
      ]
     },
     "execution_count": 78,
     "metadata": {},
     "output_type": "execute_result"
    }
   ],
   "source": [
    "# dict[key] = value\n",
    "d_3['Zooey'] = \"321 Fake Street\"\n",
    "d_3"
   ]
  },
  {
   "cell_type": "markdown",
   "metadata": {},
   "source": [
    "##### Removing Key, Value Pairs"
   ]
  },
  {
   "cell_type": "code",
   "execution_count": 79,
   "metadata": {},
   "outputs": [],
   "source": [
    "# del dict[key]\n",
    "del d_3['Tevin']"
   ]
  },
  {
   "cell_type": "markdown",
   "metadata": {},
   "source": [
    "##### Looping a Dictionary"
   ]
  },
  {
   "cell_type": "code",
   "execution_count": null,
   "metadata": {},
   "outputs": [],
   "source": [
    "# .items()\n",
    "# a, b, c = 1, 2, 3\n",
    "# print(a)\n",
    "# print(b)\n",
    "# print(c)\n",
    "\n",
    "    \n"
   ]
  },
  {
   "cell_type": "markdown",
   "metadata": {},
   "source": [
    "##### Looping Only Keys"
   ]
  },
  {
   "cell_type": "code",
   "execution_count": null,
   "metadata": {},
   "outputs": [],
   "source": [
    "# .keys()\n",
    "# for i in d_3:\n",
    "#     print(i)\n"
   ]
  },
  {
   "cell_type": "markdown",
   "metadata": {},
   "source": [
    "##### Looping Only Values"
   ]
  },
  {
   "cell_type": "code",
   "execution_count": null,
   "metadata": {},
   "outputs": [],
   "source": [
    "# .values()\n"
   ]
  },
  {
   "cell_type": "markdown",
   "metadata": {},
   "source": [
    "## In-Class Exercise #2 - Create a Function that Prints All Key Value Pairs within a print .format() <br>\n",
    "<p><b>Output should be:</b><br>\n",
    "Max has blue eyes<br>\n",
    "Lilly has brown eyes<br>\n",
    "Barney has blue eyes<br>\n",
    "etc.\n",
    "</p>"
   ]
  },
  {
   "cell_type": "code",
   "execution_count": 76,
   "metadata": {},
   "outputs": [
    {
     "name": "stdout",
     "output_type": "stream",
     "text": [
      "Max has blue eyes\n",
      "Lilly has brown eyes\n",
      "Barney has blue eyes\n",
      "Larney has brown eyes\n",
      "Ted has purple eyes\n",
      "\n",
      "Max has blue eyes\n",
      "Lilly has brown eyes\n",
      "Barney has blue eyes\n",
      "Larney has brown eyes\n",
      "Ted has purple eyes\n"
     ]
    }
   ],
   "source": [
    "# use the dict below\n",
    "\n",
    "people = {\n",
    "    'Max': 'blue',\n",
    "    'Lilly': 'brown',\n",
    "    'Barney': 'blue',\n",
    "    'Larney': 'brown',\n",
    "    'Ted': 'purple'\n",
    "}\n",
    "\n",
    "def print_eyes(a_dict):\n",
    "    for key, value in a_dict.items():\n",
    "        print(f\"{key} has {value} eyes\")\n",
    "    print('')\n",
    "    for k in a_dict.keys():\n",
    "        print(f\"{k} has {a_dict[k]} eyes\")\n",
    "        \n",
    "print_eyes(people)"
   ]
  },
  {
   "cell_type": "markdown",
   "metadata": {},
   "source": [
    "##### sorted()"
   ]
  },
  {
   "cell_type": "code",
   "execution_count": 84,
   "metadata": {},
   "outputs": [
    {
     "name": "stdout",
     "output_type": "stream",
     "text": [
      "[('Barney', 'blue'), ('Larney', 'brown'), ('Lilly', 'brown'), ('Max', 'blue'), ('Ted', 'purple')]\n",
      "['Barney', 'Larney', 'Lilly', 'Max', 'Ted']\n",
      "['blue', 'blue', 'brown', 'brown', 'purple']\n"
     ]
    }
   ],
   "source": [
    "# sorts variables in order\n",
    "# sorted(dict.values()) or dict.keys() or dict.items()\n",
    "print(sorted(people.items()))\n",
    "print(sorted(people.keys()))\n",
    "print(sorted(people.values()))\n",
    "\n"
   ]
  },
  {
   "cell_type": "markdown",
   "metadata": {},
   "source": [
    "##### List with Dictionaries"
   ]
  },
  {
   "cell_type": "code",
   "execution_count": 89,
   "metadata": {},
   "outputs": [
    {
     "name": "stdout",
     "output_type": "stream",
     "text": [
      "['Hello', 'Goodbye', {'name': 'Ted', 'age': 22}]\n",
      "{'name': 'Ted', 'age': 22}\n",
      "Ted\n"
     ]
    }
   ],
   "source": [
    "a_list  = ['Hello', 'Goodbye', {'name': 'Ted', 'age': 22}]\n",
    "\n",
    "print(a_list)\n",
    "print(a_list[2])\n",
    "\n",
    "print(a_list[2]['name'])"
   ]
  },
  {
   "cell_type": "code",
   "execution_count": 91,
   "metadata": {},
   "outputs": [
    {
     "name": "stdout",
     "output_type": "stream",
     "text": [
      "['Hello', 'Goodbye', {'name': 'Ted', 'age': 22, 'height': \"6'0\"}]\n"
     ]
    }
   ],
   "source": [
    "a_list[2]['height'] = \"6'0\"\n",
    "\n",
    "print(a_list)"
   ]
  },
  {
   "cell_type": "markdown",
   "metadata": {},
   "source": [
    "##### List of Dictionaries"
   ]
  },
  {
   "cell_type": "code",
   "execution_count": 94,
   "metadata": {},
   "outputs": [
    {
     "name": "stdout",
     "output_type": "stream",
     "text": [
      "[{'title': 'Inception', 'director': 'Chris Nolan', 'release_year': 2010}, {'title': 'The Social Network', 'director': 'Dave Fin', 'release_year': 2010}, {'title': 'The departed', 'director': 'Martin Scor', 'release_year': 2006}, {'title': 'Parasite', 'director': 'Bong Joon Ho', 'release_year': 2019}]\n"
     ]
    }
   ],
   "source": [
    "movies =[\n",
    "    {'title': 'Inception', 'director': 'Chris Nolan', 'release_year': 2010},\n",
    "    {'title': 'The Social Network', 'director': 'Dave Fin', 'release_year': 2010},\n",
    "    {'title': 'The departed', 'director': 'Martin Scor', 'release_year': 2006},\n",
    "    {'title': 'Parasite', 'director': 'Bong Joon Ho', 'release_year': 2019},\n",
    "]\n",
    "\n",
    "print(movies)"
   ]
  },
  {
   "cell_type": "code",
   "execution_count": 95,
   "metadata": {},
   "outputs": [
    {
     "name": "stdout",
     "output_type": "stream",
     "text": [
      "Inception\n",
      "The Social Network\n",
      "The departed\n",
      "Parasite\n"
     ]
    }
   ],
   "source": [
    "for m in movies:\n",
    "    print(m['title'])"
   ]
  },
  {
   "cell_type": "markdown",
   "metadata": {},
   "source": [
    "##### Dictionaries with Lists"
   ]
  },
  {
   "cell_type": "code",
   "execution_count": 100,
   "metadata": {},
   "outputs": [
    {
     "name": "stdout",
     "output_type": "stream",
     "text": [
      "[54, 33, 22, 66, 234]\n",
      "<class 'list'>\n"
     ]
    }
   ],
   "source": [
    "# be careful when using numbers as keys in dictionaries, don't confuse them with indexes\n",
    "random_data = {\n",
    "    'list1' : [54, 33, 22, 66, 234],\n",
    "    2:['blue', 'green', 'orange']\n",
    "}\n",
    "\n",
    "print(random_data['list1'])\n",
    "print(type(random_data['list1']))"
   ]
  },
  {
   "cell_type": "markdown",
   "metadata": {},
   "source": [
    "##### Dictionaries with Dictionaries"
   ]
  },
  {
   "cell_type": "code",
   "execution_count": 107,
   "metadata": {},
   "outputs": [
    {
     "name": "stdout",
     "output_type": "stream",
     "text": [
      "3.49\n",
      "<class 'float'>\n"
     ]
    }
   ],
   "source": [
    "# to get values, must traverse through keys\n",
    "my_store = {\n",
    "    'ice_cream': {\n",
    "        'vanilla': 2.99,\n",
    "        'chocolate': 2.99,\n",
    "        'oreo': 3.49\n",
    "    },\n",
    "    'milkshake': {\n",
    "        'vanilla': 3.99,\n",
    "        'chocolate': 3.99,\n",
    "        'oreo': 4.49\n",
    "    }\n",
    "}\n",
    "\n",
    "print(my_store['ice_cream']['oreo'])\n",
    "print(type(my_store['ice_cream']['oreo']))"
   ]
  },
  {
   "cell_type": "code",
   "execution_count": 110,
   "metadata": {},
   "outputs": [
    {
     "ename": "SyntaxError",
     "evalue": "invalid syntax (<ipython-input-110-e538c08d31bb>, line 7)",
     "output_type": "error",
     "traceback": [
      "\u001b[0;36m  File \u001b[0;32m\"<ipython-input-110-e538c08d31bb>\"\u001b[0;36m, line \u001b[0;32m7\u001b[0m\n\u001b[0;31m    'proficiency': 8\u001b[0m\n\u001b[0m                 ^\u001b[0m\n\u001b[0;31mSyntaxError\u001b[0m\u001b[0;31m:\u001b[0m invalid syntax\n"
     ]
    }
   ],
   "source": [
    "job_app = {\n",
    "    'full_name': 'Jimmy Smith',\n",
    "    'email': 'jsmith@email.com',\n",
    "    'prog_lang' : [\n",
    "        {\n",
    "        'name': 'Python'\n",
    "        'proficiency': 8\n",
    "        },\n",
    "        {\n",
    "            'name': 'JavaScript'\n",
    "            'proficiency': 5\n",
    "        }\n",
    "    ],\n",
    "    'experience': [\n",
    "        'company': 'Omnicorp'\n",
    "        'position': 'boss'\n",
    "        'years_at_company': [2014, 2015, 2016]\n",
    "        \n",
    "        }\n",
    "    ],\n",
    "    'citizen': True\n",
    "}\n",
    "\n",
    "job_app"
   ]
  },
  {
   "cell_type": "code",
   "execution_count": null,
   "metadata": {},
   "outputs": [],
   "source": [
    "# How many years did Jimmy Smith work at AlphaInc?\n"
   ]
  },
  {
   "cell_type": "markdown",
   "metadata": {},
   "source": [
    "## Dictionaries vs. Lists (over time) Example of RUNTIME\n",
    "### When inputting values in a Dictionary vs List"
   ]
  },
  {
   "cell_type": "code",
   "execution_count": 112,
   "metadata": {},
   "outputs": [],
   "source": [
    "import time\n",
    "\n",
    "\n",
    "# generate fake dictionary\n",
    "d = {}\n",
    "\n",
    "for i in range(10000000):\n",
    "    d[i] = 'value'\n",
    "    \n",
    "\n",
    "# generate fake list\n",
    "big_list = [x for x in range(10000000)]"
   ]
  },
  {
   "cell_type": "code",
   "execution_count": 124,
   "metadata": {},
   "outputs": [
    {
     "data": {
      "text/plain": [
       "1639683860.9593868"
      ]
     },
     "execution_count": 124,
     "metadata": {},
     "output_type": "execute_result"
    }
   ],
   "source": []
  },
  {
   "cell_type": "code",
   "execution_count": 127,
   "metadata": {},
   "outputs": [
    {
     "name": "stdout",
     "output_type": "stream",
     "text": [
      "True\n",
      "Elapsed time for dictionary: 0.0024313926696777344\n",
      "True\n",
      "Elapsed time for list: 0.17710399627685547\n"
     ]
    }
   ],
   "source": [
    "# tracking time for set\n",
    "start_time = time.time()\n",
    "\n",
    "print(9999999 in d)\n",
    "\n",
    "end_time = time.time()\n",
    "\n",
    "elapsed_time = end_time - start_time\n",
    "\n",
    "print(f'Elapsed time for dictionary: {elapsed_time}')\n",
    "\n",
    "\n",
    "# tracking time for list\n",
    "start_time = time.time()\n",
    "\n",
    "print(9999999 in big_list)\n",
    "\n",
    "end_time = time.time()\n",
    "\n",
    "elapsed_time = end_time - start_time\n",
    "\n",
    "print(f'Elapsed time for list: {elapsed_time}')"
   ]
  },
  {
   "cell_type": "markdown",
   "metadata": {},
   "source": [
    "## Set <br>\n",
    "<p>A Set is an unordered collection data type that is iterable (loop), mutable, and has no duplicate elements.<br>Major advantage is that it is highly optimized in checking if something is in the set, as opposed to checking if something is in a list.</p>"
   ]
  },
  {
   "cell_type": "markdown",
   "metadata": {},
   "source": [
    "##### Declaring"
   ]
  },
  {
   "cell_type": "code",
   "execution_count": 129,
   "metadata": {},
   "outputs": [
    {
     "name": "stdout",
     "output_type": "stream",
     "text": [
      "set()\n",
      "<class 'set'>\n"
     ]
    }
   ],
   "source": [
    "# set() or {,}\n",
    "set1= set()\n",
    "print(set1)\n",
    "print(type(set1))"
   ]
  },
  {
   "cell_type": "code",
   "execution_count": 131,
   "metadata": {},
   "outputs": [
    {
     "name": "stdout",
     "output_type": "stream",
     "text": [
      "{}\n",
      "<class 'dict'>\n"
     ]
    }
   ],
   "source": [
    "set2= {}\n",
    "print(set2)\n",
    "print(type(set2))"
   ]
  },
  {
   "cell_type": "code",
   "execution_count": 132,
   "metadata": {},
   "outputs": [
    {
     "name": "stdout",
     "output_type": "stream",
     "text": [
      "{1, 4, 6}\n",
      "<class 'set'>\n"
     ]
    }
   ],
   "source": [
    "nums= {4, 1, 6, 4}\n",
    "print(nums)\n",
    "print(type(nums))"
   ]
  },
  {
   "cell_type": "markdown",
   "metadata": {},
   "source": [
    "##### .add()"
   ]
  },
  {
   "cell_type": "code",
   "execution_count": 139,
   "metadata": {},
   "outputs": [
    {
     "name": "stdout",
     "output_type": "stream",
     "text": [
      "{56, 1, 4, 6}\n"
     ]
    }
   ],
   "source": [
    "#set.add(value_to_add)\n",
    "\n",
    "nums.add(56)\n",
    "\n",
    "print(nums)"
   ]
  },
  {
   "cell_type": "markdown",
   "metadata": {},
   "source": [
    "##### .remove()"
   ]
  },
  {
   "cell_type": "code",
   "execution_count": 140,
   "metadata": {},
   "outputs": [
    {
     "name": "stdout",
     "output_type": "stream",
     "text": [
      "{1, 4, 6}\n"
     ]
    }
   ],
   "source": [
    "#set.remove(value_to_remove)\n",
    "\n",
    "# nums.remove(56)\n",
    "# print(nums)"
   ]
  },
  {
   "cell_type": "code",
   "execution_count": 141,
   "metadata": {},
   "outputs": [
    {
     "name": "stdout",
     "output_type": "stream",
     "text": [
      "1\n",
      "4\n",
      "6\n"
     ]
    }
   ],
   "source": [
    "# for item in nums:\n",
    "#     print(item)"
   ]
  },
  {
   "cell_type": "markdown",
   "metadata": {},
   "source": [
    "##### .union() "
   ]
  },
  {
   "cell_type": "code",
   "execution_count": 143,
   "metadata": {},
   "outputs": [
    {
     "name": "stdout",
     "output_type": "stream",
     "text": [
      "{1, 2, 3, 4, 5, 6}\n",
      "{1, 2, 3, 4, 5, 6}\n"
     ]
    }
   ],
   "source": [
    "# Returns a union of two sets, can also use '|' or set.union(set)\n",
    "# joins all numbers, gets rid of duplicates\n",
    "\n",
    "# s1 = {1, 2 ,3, 4}\n",
    "# s2 = {3, 4, 5, 6}\n",
    "\n",
    "# s3 = s1.union(s2)\n",
    "# print(s3)\n",
    "\n",
    "# #OR\n",
    "\n",
    "# s4 = s2 | s1\n",
    "# print(s4)"
   ]
  },
  {
   "cell_type": "markdown",
   "metadata": {},
   "source": [
    "##### .intersection()"
   ]
  },
  {
   "cell_type": "code",
   "execution_count": 145,
   "metadata": {},
   "outputs": [
    {
     "name": "stdout",
     "output_type": "stream",
     "text": [
      "{3, 4}\n",
      "{3, 4}\n"
     ]
    }
   ],
   "source": [
    "# Returns an intersection of two sets, can also use '&'\n",
    "# only takes similar elements from both sets\n",
    "\n",
    "# s5 = s1.intersection(s2)\n",
    "# print(s5)\n",
    "\n",
    "# s6 = s2 & s1\n",
    "# print(s6)"
   ]
  },
  {
   "cell_type": "markdown",
   "metadata": {},
   "source": [
    "##### .difference()"
   ]
  },
  {
   "cell_type": "code",
   "execution_count": 147,
   "metadata": {},
   "outputs": [
    {
     "name": "stdout",
     "output_type": "stream",
     "text": [
      "{1, 2}\n",
      "{5, 6}\n"
     ]
    }
   ],
   "source": [
    "# Returns a set containing all the elements of invoking set that are not in the second set, can also use '-'\n",
    "# only takes values from the first set that are not in the second set\n",
    "# order matters\n",
    "# s7 = s1 - s2\n",
    "# print(s7)\n",
    "\n",
    "# s8 = s2 - s1\n",
    "# print(s8)"
   ]
  },
  {
   "cell_type": "markdown",
   "metadata": {},
   "source": [
    "##### .clear()"
   ]
  },
  {
   "cell_type": "code",
   "execution_count": null,
   "metadata": {},
   "outputs": [],
   "source": [
    "# Empties the whole set\n",
    "# set.clear()\n"
   ]
  },
  {
   "cell_type": "markdown",
   "metadata": {},
   "source": [
    "##### Frozenset <br>\n",
    "<p>Frozen sets are immutable objects that only support methods and operators that produce a result without affecting the frozen set or sets to which they are applied.</p><br><b>Unique & Immutable</b>"
   ]
  },
  {
   "cell_type": "code",
   "execution_count": 148,
   "metadata": {},
   "outputs": [
    {
     "name": "stdout",
     "output_type": "stream",
     "text": [
      "frozenset({1, 2, 3})\n"
     ]
    }
   ],
   "source": [
    "# # frozenset(iterable)\n",
    "# my_frozen_set = frozenset([1, 2, 2, 2, 3])\n",
    "\n",
    "# print(my_frozen_set)"
   ]
  },
  {
   "cell_type": "code",
   "execution_count": null,
   "metadata": {},
   "outputs": [],
   "source": [
    "# import time\n",
    "# # generate fake set\n",
    "# big_set = {i for i in range(10000000)}\n",
    "    \n",
    "\n",
    "# # generate fake list\n",
    "# big_list = [x for x in range(10000000)]"
   ]
  },
  {
   "cell_type": "code",
   "execution_count": null,
   "metadata": {},
   "outputs": [],
   "source": [
    "# # tracking time for set\n",
    "# start_time = time.time()\n",
    "\n",
    "# print(9999999 in big_set)\n",
    "\n",
    "# end_time = time.time()\n",
    "\n",
    "# elapsed_time = end_time - start_time\n",
    "\n",
    "# print(f'Elapsed time for set: {elapsed_time}')\n",
    "\n",
    "\n",
    "# # tracking time for list\n",
    "# start_time = time.time()\n",
    "\n",
    "# print(9999999 in big_list)\n",
    "\n",
    "# end_time = time.time()\n",
    "\n",
    "# elapsed_time = end_time - start_time\n",
    "\n",
    "# print(f'Elapsed time for list: {elapsed_time}')"
   ]
  },
  {
   "cell_type": "markdown",
   "metadata": {},
   "source": [
    "# Exercises"
   ]
  },
  {
   "cell_type": "markdown",
   "metadata": {},
   "source": [
    "### 1) Create a program that allows a user to continue to add people to an address book until the user quits. Once the user quits, break out of the loop and print out the name and address of everyone in the address book"
   ]
  },
  {
   "cell_type": "markdown",
   "metadata": {},
   "source": [
    "###### Steps\n",
    "1. Create a function that will ask user for name and addresses and stores them in a dictionary\n",
    "2. Define an empty dictionary with which to work (global or local variable?)\n",
    "3. Begin a loop that will continue to ask a user for information until the user \"quits\"\n",
    "4. If the user does not quit, ask for a name and address and store the variables into variables\n",
    "5. Add information to the dictionary with name as the key and address as the value\n",
    "6. If the user does quit, end the loop\n",
    "7. Print out the information from the dictionary in a formatted way\n",
    "8. Execute/Call the function"
   ]
  },
  {
   "cell_type": "code",
   "execution_count": null,
   "metadata": {},
   "outputs": [],
   "source": []
  },
  {
   "cell_type": "markdown",
   "metadata": {},
   "source": [
    "### 2) Best Time to Meet"
   ]
  },
  {
   "cell_type": "markdown",
   "metadata": {},
   "source": [
    "Billy is trying to figure out if there is a time that he and his team can meet to work on the project. His three teammates each give him a list of times they are available ('HH:MM' 24-hour). Create a function that will take in the list of all the teammates and return a list of times where everyone can meet."
   ]
  },
  {
   "cell_type": "code",
   "execution_count": 1,
   "metadata": {},
   "outputs": [],
   "source": [
    "# billy_times = ['09:00', '10:30', '11:30', '12:00', '13:00', '14:30']\n",
    "# teammate_1 = ['09:30', '10:00', '10:30', '12:00', '14:30', '16:00']\n",
    "# teammate_2 = ['09:00', '09:30', '11:00', '11:30', '12:00', '13:30', '14:30', '15:00']\n",
    "# teammate_3 = ['11:00', '11:30', '12:00', '14:00', '14:30', '16:30', '17:00']\n",
    "# # Available Times: '12:00' and '14:30'\n",
    "\n"
   ]
  },
  {
   "cell_type": "code",
   "execution_count": 84,
   "metadata": {},
   "outputs": [
    {
     "ename": "IndentationError",
     "evalue": "expected an indented block (<ipython-input-84-d09361057c67>, line 19)",
     "output_type": "error",
     "traceback": [
      "\u001b[0;36m  File \u001b[0;32m\"<ipython-input-84-d09361057c67>\"\u001b[0;36m, line \u001b[0;32m19\u001b[0m\n\u001b[0;31m    total = sum(numbers)\u001b[0m\n\u001b[0m                        ^\u001b[0m\n\u001b[0;31mIndentationError\u001b[0m\u001b[0;31m:\u001b[0m expected an indented block\n"
     ]
    }
   ],
   "source": [
    "        # Given a list of integers, determine whether the sum of its elements is odd or even.\n",
    "\n",
    "# Give your answer as a string matching \"odd\" or \"even\".\n",
    "\n",
    "# If the input array is empty consider it as: [0] (array with a zero).\n",
    "\n",
    "# Examples:\n",
    "# Input: [0]\n",
    "# Output: \"even\"\n",
    "\n",
    "# Input: [0, 1, 4]\n",
    "# Output: \"odd\"\n",
    "\n",
    "# Input: [0, -1, -5]\n",
    "# Output: \"even\"\n",
    "\n",
    "def numbers(numbers):\n",
    "    for num in numbers:\n",
    "        total = sum(numbers)\n",
    "        if total % 2 ==0:\n",
    "            print(\"Even\")\n",
    "            break\n",
    "        else:\n",
    "            print(\"Odd\")\n",
    "            \n",
    "numbers([5, 6, 7])"
   ]
  },
  {
   "cell_type": "code",
   "execution_count": null,
   "metadata": {},
   "outputs": [],
   "source": []
  },
  {
   "cell_type": "code",
   "execution_count": null,
   "metadata": {},
   "outputs": [],
   "source": []
  },
  {
   "cell_type": "code",
   "execution_count": null,
   "metadata": {},
   "outputs": [],
   "source": []
  },
  {
   "cell_type": "code",
   "execution_count": null,
   "metadata": {},
   "outputs": [],
   "source": []
  },
  {
   "cell_type": "code",
   "execution_count": null,
   "metadata": {},
   "outputs": [],
   "source": []
  },
  {
   "cell_type": "code",
   "execution_count": null,
   "metadata": {},
   "outputs": [],
   "source": []
  },
  {
   "cell_type": "code",
   "execution_count": null,
   "metadata": {},
   "outputs": [],
   "source": []
  },
  {
   "cell_type": "code",
   "execution_count": null,
   "metadata": {},
   "outputs": [],
   "source": []
  },
  {
   "cell_type": "code",
   "execution_count": null,
   "metadata": {},
   "outputs": [],
   "source": []
  },
  {
   "cell_type": "code",
   "execution_count": null,
   "metadata": {},
   "outputs": [],
   "source": []
  },
  {
   "cell_type": "code",
   "execution_count": null,
   "metadata": {},
   "outputs": [],
   "source": []
  },
  {
   "cell_type": "code",
   "execution_count": null,
   "metadata": {},
   "outputs": [],
   "source": []
  },
  {
   "cell_type": "code",
   "execution_count": null,
   "metadata": {},
   "outputs": [],
   "source": []
  },
  {
   "cell_type": "code",
   "execution_count": null,
   "metadata": {},
   "outputs": [],
   "source": []
  },
  {
   "cell_type": "code",
   "execution_count": null,
   "metadata": {},
   "outputs": [],
   "source": []
  },
  {
   "cell_type": "code",
   "execution_count": 88,
   "metadata": {},
   "outputs": [
    {
     "name": "stdout",
     "output_type": "stream",
     "text": [
      "Hello, would you like to Add, Remove, Show, Clear or Quit? add\n",
      "Which item would you like to add to your cart? Guinness Beer\n",
      "What is the exact cost of guinness beer? 6.99\n",
      "Hello, would you like to Add, Remove, Show, Clear or Quit? add\n",
      "Which item would you like to add to your cart? Dove Chocolates\n",
      "What is the exact cost of dove chocolates? 3.95\n",
      "Hello, would you like to Add, Remove, Show, Clear or Quit? quit\n",
      "Here is item(s) in your cart so far:\n",
      "item: guinness beer\n",
      "price: $6.99\n",
      "=================\n",
      "Here is item(s) in your cart so far:\n",
      "item: dove chocolates\n",
      "price: $3.95\n",
      "=================\n",
      "Your total cost today will be $7.9\n"
     ]
    },
    {
     "data": {
      "text/plain": [
       "{'guinness beer': 6.99, 'dove chocolates': 3.95}"
      ]
     },
     "execution_count": 88,
     "metadata": {},
     "output_type": "execute_result"
    }
   ],
   "source": [
    "def shopping_cart(cart={}):\n",
    "    # defining our function & setting cart to a dictionary\n",
    "    while True:\n",
    "        ask = input(\n",
    "            'Hello, would you like to Add, Remove, Show, Clear or Quit? ').lower()\n",
    "        if ask == 'quit':\n",
    "            break\n",
    "        elif ask == 'add':\n",
    "            item = input(\n",
    "                'Which item would you like to add to your cart? ').lower()\n",
    "            price = float(input(f'What is the exact cost of {item}? '))\n",
    "\n",
    "            cart[item] = price\n",
    "\n",
    "        elif ask == 'show'.lower():\n",
    "            print(f'Here is your shopping cart so far: \n",
    "                  {cart[item, price]}')\n",
    "\n",
    "        elif ask == 'remove'.lower():\n",
    "            input(\n",
    "                f'Which item would you like to remove? {cart}').lower()\n",
    "\n",
    "            for items, price in enumerate(cart):\n",
    "                if items[item] == item:\n",
    "                    del items[item, price]\n",
    "\n",
    "                    print(f'Your Cart: {cart} .a')\n",
    "\n",
    "        elif ask == 'clear'.lower():\n",
    "            continue\n",
    "\n",
    "        else:\n",
    "            input(\n",
    "                'That is not a valid input. Please try again. Add, Remove, Show, Clear, Quit? ')\n",
    "    for item, price in cart.items():\n",
    "        print(\n",
    "            f'Here is item(s) in your cart so far:\\nitem: {item}\\nprice: ${price}')\n",
    "\n",
    "        print('=================')\n",
    "        total_price = price + price\n",
    "    print(f'Your total cost today will be ${total_price}')\n",
    "\n",
    "    return cart\n",
    "\n",
    "\n",
    "shopping_cart()\n"
   ]
  },
  {
   "cell_type": "code",
   "execution_count": null,
   "metadata": {},
   "outputs": [],
   "source": []
  }
 ],
 "metadata": {
  "kernelspec": {
   "display_name": "Python 3",
   "language": "python",
   "name": "python3"
  },
  "language_info": {
   "codemirror_mode": {
    "name": "ipython",
    "version": 3
   },
   "file_extension": ".py",
   "mimetype": "text/x-python",
   "name": "python",
   "nbconvert_exporter": "python",
   "pygments_lexer": "ipython3",
   "version": "3.8.8"
  }
 },
 "nbformat": 4,
 "nbformat_minor": 2
}
